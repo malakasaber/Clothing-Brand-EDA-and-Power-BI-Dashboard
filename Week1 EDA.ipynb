{
 "cells": [
  {
   "cell_type": "code",
   "execution_count": 1,
   "id": "9d70765c-c362-4fdf-b488-1c6582e1faac",
   "metadata": {},
   "outputs": [],
   "source": [
    "import pandas as pd \n",
    "import numpy as np \n",
    "import pyodbc\n",
    "\n",
    "import warnings\n",
    "warnings.filterwarnings('ignore')"
   ]
  },
  {
   "cell_type": "code",
   "execution_count": 29,
   "id": "41ec9d07-6810-4d7c-bd1f-0332673fc2ba",
   "metadata": {},
   "outputs": [],
   "source": [
    "import matplotlib.pyplot as plt\n",
    "import seaborn as sns\n",
    "import plotly.express as px"
   ]
  },
  {
   "cell_type": "code",
   "execution_count": 3,
   "id": "3f86e95f-28bc-4892-9626-95abf677a78f",
   "metadata": {},
   "outputs": [],
   "source": [
    "conn_str = (\n",
    "    'DRIVER={ODBC Driver 17 for SQL Server};'\n",
    "    'SERVER=DESKTOP-SEV5FUM;'\n",
    "    'DATABASE=InstantSWSInternWeek1;'\n",
    "    'Trusted_Connection=yes;'\n",
    ")\n"
   ]
  },
  {
   "cell_type": "code",
   "execution_count": 5,
   "id": "289894d8-2baa-4b4a-b02f-70ecb651b952",
   "metadata": {},
   "outputs": [],
   "source": [
    "conn = pyodbc.connect(conn_str)"
   ]
  },
  {
   "cell_type": "code",
   "execution_count": 7,
   "id": "30145e80-73b5-474b-b3bc-4d7f804a2a4d",
   "metadata": {},
   "outputs": [],
   "source": [
    "query = \"select * from dbo.shopping_trends\"\n",
    "df = pd.read_sql(query,conn)"
   ]
  },
  {
   "cell_type": "code",
   "execution_count": 9,
   "id": "18b6224f-7375-4670-8306-feacee738e2e",
   "metadata": {},
   "outputs": [
    {
     "data": {
      "text/html": [
       "<div>\n",
       "<style scoped>\n",
       "    .dataframe tbody tr th:only-of-type {\n",
       "        vertical-align: middle;\n",
       "    }\n",
       "\n",
       "    .dataframe tbody tr th {\n",
       "        vertical-align: top;\n",
       "    }\n",
       "\n",
       "    .dataframe thead th {\n",
       "        text-align: right;\n",
       "    }\n",
       "</style>\n",
       "<table border=\"1\" class=\"dataframe\">\n",
       "  <thead>\n",
       "    <tr style=\"text-align: right;\">\n",
       "      <th></th>\n",
       "      <th>Customer_ID</th>\n",
       "      <th>Age</th>\n",
       "      <th>Gender</th>\n",
       "      <th>Item_Purchased</th>\n",
       "      <th>Category</th>\n",
       "      <th>Purchase_Amount_USD</th>\n",
       "      <th>Location</th>\n",
       "      <th>Size</th>\n",
       "      <th>Color</th>\n",
       "      <th>Season</th>\n",
       "      <th>Review_Rating</th>\n",
       "      <th>Subscription_Status</th>\n",
       "      <th>Payment_Method</th>\n",
       "      <th>Shipping_Type</th>\n",
       "      <th>Discount_Applied</th>\n",
       "      <th>Promo_Code_Used</th>\n",
       "      <th>Previous_Purchases</th>\n",
       "      <th>Preferred_Payment_Method</th>\n",
       "      <th>Frequency_of_Purchases</th>\n",
       "    </tr>\n",
       "  </thead>\n",
       "  <tbody>\n",
       "    <tr>\n",
       "      <th>0</th>\n",
       "      <td>1</td>\n",
       "      <td>55</td>\n",
       "      <td>Male</td>\n",
       "      <td>Blouse</td>\n",
       "      <td>Clothing</td>\n",
       "      <td>53</td>\n",
       "      <td>Kentucky</td>\n",
       "      <td>L</td>\n",
       "      <td>Gray</td>\n",
       "      <td>Winter</td>\n",
       "      <td>3.1</td>\n",
       "      <td>Yes</td>\n",
       "      <td>Credit Card</td>\n",
       "      <td>Express</td>\n",
       "      <td>Yes</td>\n",
       "      <td>Yes</td>\n",
       "      <td>14</td>\n",
       "      <td>Venmo</td>\n",
       "      <td>Fortnightly</td>\n",
       "    </tr>\n",
       "    <tr>\n",
       "      <th>1</th>\n",
       "      <td>2</td>\n",
       "      <td>19</td>\n",
       "      <td>Male</td>\n",
       "      <td>Sweater</td>\n",
       "      <td>Clothing</td>\n",
       "      <td>64</td>\n",
       "      <td>Maine</td>\n",
       "      <td>L</td>\n",
       "      <td>Maroon</td>\n",
       "      <td>Winter</td>\n",
       "      <td>3.1</td>\n",
       "      <td>Yes</td>\n",
       "      <td>Bank Transfer</td>\n",
       "      <td>Express</td>\n",
       "      <td>Yes</td>\n",
       "      <td>Yes</td>\n",
       "      <td>2</td>\n",
       "      <td>Cash</td>\n",
       "      <td>Fortnightly</td>\n",
       "    </tr>\n",
       "    <tr>\n",
       "      <th>2</th>\n",
       "      <td>3</td>\n",
       "      <td>50</td>\n",
       "      <td>Male</td>\n",
       "      <td>Jeans</td>\n",
       "      <td>Clothing</td>\n",
       "      <td>73</td>\n",
       "      <td>Massachusetts</td>\n",
       "      <td>S</td>\n",
       "      <td>Maroon</td>\n",
       "      <td>Spring</td>\n",
       "      <td>3.1</td>\n",
       "      <td>Yes</td>\n",
       "      <td>Cash</td>\n",
       "      <td>Free Shipping</td>\n",
       "      <td>Yes</td>\n",
       "      <td>Yes</td>\n",
       "      <td>23</td>\n",
       "      <td>Credit Card</td>\n",
       "      <td>Weekly</td>\n",
       "    </tr>\n",
       "    <tr>\n",
       "      <th>3</th>\n",
       "      <td>4</td>\n",
       "      <td>21</td>\n",
       "      <td>Male</td>\n",
       "      <td>Sandals</td>\n",
       "      <td>Footwear</td>\n",
       "      <td>90</td>\n",
       "      <td>Rhode Island</td>\n",
       "      <td>M</td>\n",
       "      <td>Maroon</td>\n",
       "      <td>Spring</td>\n",
       "      <td>3.5</td>\n",
       "      <td>Yes</td>\n",
       "      <td>PayPal</td>\n",
       "      <td>Next Day Air</td>\n",
       "      <td>Yes</td>\n",
       "      <td>Yes</td>\n",
       "      <td>49</td>\n",
       "      <td>PayPal</td>\n",
       "      <td>Weekly</td>\n",
       "    </tr>\n",
       "    <tr>\n",
       "      <th>4</th>\n",
       "      <td>5</td>\n",
       "      <td>45</td>\n",
       "      <td>Male</td>\n",
       "      <td>Blouse</td>\n",
       "      <td>Clothing</td>\n",
       "      <td>49</td>\n",
       "      <td>Oregon</td>\n",
       "      <td>M</td>\n",
       "      <td>Turquoise</td>\n",
       "      <td>Spring</td>\n",
       "      <td>2.7</td>\n",
       "      <td>Yes</td>\n",
       "      <td>Cash</td>\n",
       "      <td>Free Shipping</td>\n",
       "      <td>Yes</td>\n",
       "      <td>Yes</td>\n",
       "      <td>31</td>\n",
       "      <td>PayPal</td>\n",
       "      <td>Annually</td>\n",
       "    </tr>\n",
       "    <tr>\n",
       "      <th>...</th>\n",
       "      <td>...</td>\n",
       "      <td>...</td>\n",
       "      <td>...</td>\n",
       "      <td>...</td>\n",
       "      <td>...</td>\n",
       "      <td>...</td>\n",
       "      <td>...</td>\n",
       "      <td>...</td>\n",
       "      <td>...</td>\n",
       "      <td>...</td>\n",
       "      <td>...</td>\n",
       "      <td>...</td>\n",
       "      <td>...</td>\n",
       "      <td>...</td>\n",
       "      <td>...</td>\n",
       "      <td>...</td>\n",
       "      <td>...</td>\n",
       "      <td>...</td>\n",
       "      <td>...</td>\n",
       "    </tr>\n",
       "    <tr>\n",
       "      <th>3895</th>\n",
       "      <td>3896</td>\n",
       "      <td>40</td>\n",
       "      <td>Female</td>\n",
       "      <td>Hoodie</td>\n",
       "      <td>Clothing</td>\n",
       "      <td>28</td>\n",
       "      <td>Virginia</td>\n",
       "      <td>L</td>\n",
       "      <td>Turquoise</td>\n",
       "      <td>Summer</td>\n",
       "      <td>4.2</td>\n",
       "      <td>No</td>\n",
       "      <td>Cash</td>\n",
       "      <td>2-Day Shipping</td>\n",
       "      <td>No</td>\n",
       "      <td>No</td>\n",
       "      <td>32</td>\n",
       "      <td>Venmo</td>\n",
       "      <td>Weekly</td>\n",
       "    </tr>\n",
       "    <tr>\n",
       "      <th>3896</th>\n",
       "      <td>3897</td>\n",
       "      <td>52</td>\n",
       "      <td>Female</td>\n",
       "      <td>Backpack</td>\n",
       "      <td>Accessories</td>\n",
       "      <td>49</td>\n",
       "      <td>Iowa</td>\n",
       "      <td>L</td>\n",
       "      <td>White</td>\n",
       "      <td>Spring</td>\n",
       "      <td>4.5</td>\n",
       "      <td>No</td>\n",
       "      <td>PayPal</td>\n",
       "      <td>Store Pickup</td>\n",
       "      <td>No</td>\n",
       "      <td>No</td>\n",
       "      <td>41</td>\n",
       "      <td>Bank Transfer</td>\n",
       "      <td>Bi-Weekly</td>\n",
       "    </tr>\n",
       "    <tr>\n",
       "      <th>3897</th>\n",
       "      <td>3898</td>\n",
       "      <td>46</td>\n",
       "      <td>Female</td>\n",
       "      <td>Belt</td>\n",
       "      <td>Accessories</td>\n",
       "      <td>33</td>\n",
       "      <td>New Jersey</td>\n",
       "      <td>L</td>\n",
       "      <td>Green</td>\n",
       "      <td>Spring</td>\n",
       "      <td>2.9</td>\n",
       "      <td>No</td>\n",
       "      <td>Credit Card</td>\n",
       "      <td>Standard</td>\n",
       "      <td>No</td>\n",
       "      <td>No</td>\n",
       "      <td>24</td>\n",
       "      <td>Venmo</td>\n",
       "      <td>Quarterly</td>\n",
       "    </tr>\n",
       "    <tr>\n",
       "      <th>3898</th>\n",
       "      <td>3899</td>\n",
       "      <td>44</td>\n",
       "      <td>Female</td>\n",
       "      <td>Shoes</td>\n",
       "      <td>Footwear</td>\n",
       "      <td>77</td>\n",
       "      <td>Minnesota</td>\n",
       "      <td>S</td>\n",
       "      <td>Brown</td>\n",
       "      <td>Summer</td>\n",
       "      <td>3.8</td>\n",
       "      <td>No</td>\n",
       "      <td>PayPal</td>\n",
       "      <td>Express</td>\n",
       "      <td>No</td>\n",
       "      <td>No</td>\n",
       "      <td>24</td>\n",
       "      <td>Venmo</td>\n",
       "      <td>Weekly</td>\n",
       "    </tr>\n",
       "    <tr>\n",
       "      <th>3899</th>\n",
       "      <td>3900</td>\n",
       "      <td>52</td>\n",
       "      <td>Female</td>\n",
       "      <td>Handbag</td>\n",
       "      <td>Accessories</td>\n",
       "      <td>81</td>\n",
       "      <td>California</td>\n",
       "      <td>M</td>\n",
       "      <td>Beige</td>\n",
       "      <td>Spring</td>\n",
       "      <td>3.1</td>\n",
       "      <td>No</td>\n",
       "      <td>Bank Transfer</td>\n",
       "      <td>Store Pickup</td>\n",
       "      <td>No</td>\n",
       "      <td>No</td>\n",
       "      <td>33</td>\n",
       "      <td>Venmo</td>\n",
       "      <td>Quarterly</td>\n",
       "    </tr>\n",
       "  </tbody>\n",
       "</table>\n",
       "<p>3900 rows × 19 columns</p>\n",
       "</div>"
      ],
      "text/plain": [
       "      Customer_ID  Age  Gender Item_Purchased     Category  \\\n",
       "0               1   55    Male         Blouse     Clothing   \n",
       "1               2   19    Male        Sweater     Clothing   \n",
       "2               3   50    Male          Jeans     Clothing   \n",
       "3               4   21    Male        Sandals     Footwear   \n",
       "4               5   45    Male         Blouse     Clothing   \n",
       "...           ...  ...     ...            ...          ...   \n",
       "3895         3896   40  Female         Hoodie     Clothing   \n",
       "3896         3897   52  Female       Backpack  Accessories   \n",
       "3897         3898   46  Female           Belt  Accessories   \n",
       "3898         3899   44  Female          Shoes     Footwear   \n",
       "3899         3900   52  Female        Handbag  Accessories   \n",
       "\n",
       "      Purchase_Amount_USD       Location Size      Color  Season  \\\n",
       "0                      53       Kentucky    L       Gray  Winter   \n",
       "1                      64          Maine    L     Maroon  Winter   \n",
       "2                      73  Massachusetts    S     Maroon  Spring   \n",
       "3                      90   Rhode Island    M     Maroon  Spring   \n",
       "4                      49         Oregon    M  Turquoise  Spring   \n",
       "...                   ...            ...  ...        ...     ...   \n",
       "3895                   28       Virginia    L  Turquoise  Summer   \n",
       "3896                   49           Iowa    L      White  Spring   \n",
       "3897                   33     New Jersey    L      Green  Spring   \n",
       "3898                   77      Minnesota    S      Brown  Summer   \n",
       "3899                   81     California    M      Beige  Spring   \n",
       "\n",
       "      Review_Rating Subscription_Status Payment_Method   Shipping_Type  \\\n",
       "0               3.1                 Yes    Credit Card         Express   \n",
       "1               3.1                 Yes  Bank Transfer         Express   \n",
       "2               3.1                 Yes           Cash   Free Shipping   \n",
       "3               3.5                 Yes         PayPal    Next Day Air   \n",
       "4               2.7                 Yes           Cash   Free Shipping   \n",
       "...             ...                 ...            ...             ...   \n",
       "3895            4.2                  No           Cash  2-Day Shipping   \n",
       "3896            4.5                  No         PayPal    Store Pickup   \n",
       "3897            2.9                  No    Credit Card        Standard   \n",
       "3898            3.8                  No         PayPal         Express   \n",
       "3899            3.1                  No  Bank Transfer    Store Pickup   \n",
       "\n",
       "     Discount_Applied Promo_Code_Used  Previous_Purchases  \\\n",
       "0                 Yes             Yes                  14   \n",
       "1                 Yes             Yes                   2   \n",
       "2                 Yes             Yes                  23   \n",
       "3                 Yes             Yes                  49   \n",
       "4                 Yes             Yes                  31   \n",
       "...               ...             ...                 ...   \n",
       "3895               No              No                  32   \n",
       "3896               No              No                  41   \n",
       "3897               No              No                  24   \n",
       "3898               No              No                  24   \n",
       "3899               No              No                  33   \n",
       "\n",
       "     Preferred_Payment_Method Frequency_of_Purchases  \n",
       "0                       Venmo            Fortnightly  \n",
       "1                        Cash            Fortnightly  \n",
       "2                 Credit Card                 Weekly  \n",
       "3                      PayPal                 Weekly  \n",
       "4                      PayPal               Annually  \n",
       "...                       ...                    ...  \n",
       "3895                    Venmo                 Weekly  \n",
       "3896            Bank Transfer              Bi-Weekly  \n",
       "3897                    Venmo              Quarterly  \n",
       "3898                    Venmo                 Weekly  \n",
       "3899                    Venmo              Quarterly  \n",
       "\n",
       "[3900 rows x 19 columns]"
      ]
     },
     "execution_count": 9,
     "metadata": {},
     "output_type": "execute_result"
    }
   ],
   "source": [
    "df"
   ]
  },
  {
   "cell_type": "code",
   "execution_count": 11,
   "id": "b883715d-a1ff-4900-a173-0f67ed372c89",
   "metadata": {},
   "outputs": [
    {
     "data": {
      "text/plain": [
       "(3900, 19)"
      ]
     },
     "execution_count": 11,
     "metadata": {},
     "output_type": "execute_result"
    }
   ],
   "source": [
    "df.shape"
   ]
  },
  {
   "cell_type": "code",
   "execution_count": 13,
   "id": "3c1f99a7-761c-4b87-a553-cb9babf59120",
   "metadata": {},
   "outputs": [
    {
     "data": {
      "text/plain": [
       "Index(['Customer_ID', 'Age', 'Gender', 'Item_Purchased', 'Category',\n",
       "       'Purchase_Amount_USD', 'Location', 'Size', 'Color', 'Season',\n",
       "       'Review_Rating', 'Subscription_Status', 'Payment_Method',\n",
       "       'Shipping_Type', 'Discount_Applied', 'Promo_Code_Used',\n",
       "       'Previous_Purchases', 'Preferred_Payment_Method',\n",
       "       'Frequency_of_Purchases'],\n",
       "      dtype='object')"
      ]
     },
     "execution_count": 13,
     "metadata": {},
     "output_type": "execute_result"
    }
   ],
   "source": [
    "df.columns"
   ]
  },
  {
   "cell_type": "code",
   "execution_count": 15,
   "id": "c09fd9a3-4b2d-4454-8cd2-bd0a8787e9dd",
   "metadata": {},
   "outputs": [
    {
     "name": "stdout",
     "output_type": "stream",
     "text": [
      "<class 'pandas.core.frame.DataFrame'>\n",
      "RangeIndex: 3900 entries, 0 to 3899\n",
      "Data columns (total 19 columns):\n",
      " #   Column                    Non-Null Count  Dtype  \n",
      "---  ------                    --------------  -----  \n",
      " 0   Customer_ID               3900 non-null   int64  \n",
      " 1   Age                       3900 non-null   int64  \n",
      " 2   Gender                    3900 non-null   object \n",
      " 3   Item_Purchased            3900 non-null   object \n",
      " 4   Category                  3900 non-null   object \n",
      " 5   Purchase_Amount_USD       3900 non-null   int64  \n",
      " 6   Location                  3900 non-null   object \n",
      " 7   Size                      3900 non-null   object \n",
      " 8   Color                     3900 non-null   object \n",
      " 9   Season                    3900 non-null   object \n",
      " 10  Review_Rating             3900 non-null   float64\n",
      " 11  Subscription_Status       3900 non-null   object \n",
      " 12  Payment_Method            3900 non-null   object \n",
      " 13  Shipping_Type             3900 non-null   object \n",
      " 14  Discount_Applied          3900 non-null   object \n",
      " 15  Promo_Code_Used           3900 non-null   object \n",
      " 16  Previous_Purchases        3900 non-null   int64  \n",
      " 17  Preferred_Payment_Method  3900 non-null   object \n",
      " 18  Frequency_of_Purchases    3900 non-null   object \n",
      "dtypes: float64(1), int64(4), object(14)\n",
      "memory usage: 579.0+ KB\n"
     ]
    }
   ],
   "source": [
    "df.info()"
   ]
  },
  {
   "cell_type": "code",
   "execution_count": 17,
   "id": "d064b76f-8f7b-4d7f-bf00-fd44e8c1d6ac",
   "metadata": {},
   "outputs": [
    {
     "data": {
      "text/html": [
       "<div>\n",
       "<style scoped>\n",
       "    .dataframe tbody tr th:only-of-type {\n",
       "        vertical-align: middle;\n",
       "    }\n",
       "\n",
       "    .dataframe tbody tr th {\n",
       "        vertical-align: top;\n",
       "    }\n",
       "\n",
       "    .dataframe thead th {\n",
       "        text-align: right;\n",
       "    }\n",
       "</style>\n",
       "<table border=\"1\" class=\"dataframe\">\n",
       "  <thead>\n",
       "    <tr style=\"text-align: right;\">\n",
       "      <th></th>\n",
       "      <th>Customer_ID</th>\n",
       "      <th>Age</th>\n",
       "      <th>Purchase_Amount_USD</th>\n",
       "      <th>Review_Rating</th>\n",
       "      <th>Previous_Purchases</th>\n",
       "    </tr>\n",
       "  </thead>\n",
       "  <tbody>\n",
       "    <tr>\n",
       "      <th>count</th>\n",
       "      <td>3900.000000</td>\n",
       "      <td>3900.000000</td>\n",
       "      <td>3900.000000</td>\n",
       "      <td>3900.000000</td>\n",
       "      <td>3900.000000</td>\n",
       "    </tr>\n",
       "    <tr>\n",
       "      <th>mean</th>\n",
       "      <td>1950.500000</td>\n",
       "      <td>44.068462</td>\n",
       "      <td>59.764359</td>\n",
       "      <td>3.749949</td>\n",
       "      <td>25.351538</td>\n",
       "    </tr>\n",
       "    <tr>\n",
       "      <th>std</th>\n",
       "      <td>1125.977353</td>\n",
       "      <td>15.207589</td>\n",
       "      <td>23.685392</td>\n",
       "      <td>0.716223</td>\n",
       "      <td>14.447125</td>\n",
       "    </tr>\n",
       "    <tr>\n",
       "      <th>min</th>\n",
       "      <td>1.000000</td>\n",
       "      <td>18.000000</td>\n",
       "      <td>20.000000</td>\n",
       "      <td>2.500000</td>\n",
       "      <td>1.000000</td>\n",
       "    </tr>\n",
       "    <tr>\n",
       "      <th>25%</th>\n",
       "      <td>975.750000</td>\n",
       "      <td>31.000000</td>\n",
       "      <td>39.000000</td>\n",
       "      <td>3.100000</td>\n",
       "      <td>13.000000</td>\n",
       "    </tr>\n",
       "    <tr>\n",
       "      <th>50%</th>\n",
       "      <td>1950.500000</td>\n",
       "      <td>44.000000</td>\n",
       "      <td>60.000000</td>\n",
       "      <td>3.700000</td>\n",
       "      <td>25.000000</td>\n",
       "    </tr>\n",
       "    <tr>\n",
       "      <th>75%</th>\n",
       "      <td>2925.250000</td>\n",
       "      <td>57.000000</td>\n",
       "      <td>81.000000</td>\n",
       "      <td>4.400000</td>\n",
       "      <td>38.000000</td>\n",
       "    </tr>\n",
       "    <tr>\n",
       "      <th>max</th>\n",
       "      <td>3900.000000</td>\n",
       "      <td>70.000000</td>\n",
       "      <td>100.000000</td>\n",
       "      <td>5.000000</td>\n",
       "      <td>50.000000</td>\n",
       "    </tr>\n",
       "  </tbody>\n",
       "</table>\n",
       "</div>"
      ],
      "text/plain": [
       "       Customer_ID          Age  Purchase_Amount_USD  Review_Rating  \\\n",
       "count  3900.000000  3900.000000          3900.000000    3900.000000   \n",
       "mean   1950.500000    44.068462            59.764359       3.749949   \n",
       "std    1125.977353    15.207589            23.685392       0.716223   \n",
       "min       1.000000    18.000000            20.000000       2.500000   \n",
       "25%     975.750000    31.000000            39.000000       3.100000   \n",
       "50%    1950.500000    44.000000            60.000000       3.700000   \n",
       "75%    2925.250000    57.000000            81.000000       4.400000   \n",
       "max    3900.000000    70.000000           100.000000       5.000000   \n",
       "\n",
       "       Previous_Purchases  \n",
       "count         3900.000000  \n",
       "mean            25.351538  \n",
       "std             14.447125  \n",
       "min              1.000000  \n",
       "25%             13.000000  \n",
       "50%             25.000000  \n",
       "75%             38.000000  \n",
       "max             50.000000  "
      ]
     },
     "execution_count": 17,
     "metadata": {},
     "output_type": "execute_result"
    }
   ],
   "source": [
    "df.describe()"
   ]
  },
  {
   "cell_type": "markdown",
   "id": "5fa36ca4-4a35-4443-ac18-e26b1392b061",
   "metadata": {},
   "source": [
    "1. Convert Customer ID to object"
   ]
  },
  {
   "cell_type": "code",
   "execution_count": 22,
   "id": "3979d6c6-f267-4b89-9e2e-9a2087033240",
   "metadata": {},
   "outputs": [],
   "source": [
    "df['Customer_ID'] = df['Customer_ID'].astype('object')"
   ]
  },
  {
   "cell_type": "code",
   "execution_count": 26,
   "id": "f84beb2d-e778-4313-93e3-008705c00614",
   "metadata": {},
   "outputs": [
    {
     "data": {
      "text/plain": [
       "dtype('O')"
      ]
     },
     "execution_count": 26,
     "metadata": {},
     "output_type": "execute_result"
    }
   ],
   "source": [
    "df['Customer_ID'].dtype"
   ]
  },
  {
   "cell_type": "markdown",
   "id": "0bff9479-0314-45a7-9931-284dd862eec3",
   "metadata": {},
   "source": [
    "2. Need to see how much of outliers in Age column since std + 44 = 60 while max is 70"
   ]
  },
  {
   "cell_type": "code",
   "execution_count": 31,
   "id": "03440a85-f8f1-4778-b2a9-01896af25eb4",
   "metadata": {},
   "outputs": [
    {
     "data": {
      "text/plain": [
       "<Axes: ylabel='Age'>"
      ]
     },
     "execution_count": 31,
     "metadata": {},
     "output_type": "execute_result"
    },
    {
     "data": {
      "image/png": "[encoded data removed]",
      "text/plain": [
       "<Figure size 640x480 with 1 Axes>"
      ]
     },
     "metadata": {},
     "output_type": "display_data"
    }
   ],
   "source": [
    "sns.boxplot(data=df['Age'])"
   ]
  },
  {
   "cell_type": "markdown",
   "id": "a48731b0-3817-42f6-93b5-2acffcfb418a",
   "metadata": {},
   "source": [
    "<h3>Check Duplicates</h3>"
   ]
  },
  {
   "cell_type": "code",
   "execution_count": 33,
   "id": "b28766f8-3e86-47ef-95ca-72ee33b77608",
   "metadata": {},
   "outputs": [
    {
     "data": {
      "text/plain": [
       "0"
      ]
     },
     "execution_count": 33,
     "metadata": {},
     "output_type": "execute_result"
    }
   ],
   "source": [
    "df.duplicated().sum()"
   ]
  },
  {
   "cell_type": "markdown",
   "id": "ef688aeb-9906-4955-90c1-e0c1949576a8",
   "metadata": {},
   "source": [
    "<h3>Check Missing Values</h3>"
   ]
  },
  {
   "cell_type": "code",
   "execution_count": 37,
   "id": "4b46ddb3-b493-4968-bd00-29d65ec7b573",
   "metadata": {},
   "outputs": [
    {
     "data": {
      "text/plain": [
       "Customer_ID                 0\n",
       "Age                         0\n",
       "Gender                      0\n",
       "Item_Purchased              0\n",
       "Category                    0\n",
       "Purchase_Amount_USD         0\n",
       "Location                    0\n",
       "Size                        0\n",
       "Color                       0\n",
       "Season                      0\n",
       "Review_Rating               0\n",
       "Subscription_Status         0\n",
       "Payment_Method              0\n",
       "Shipping_Type               0\n",
       "Discount_Applied            0\n",
       "Promo_Code_Used             0\n",
       "Previous_Purchases          0\n",
       "Preferred_Payment_Method    0\n",
       "Frequency_of_Purchases      0\n",
       "dtype: int64"
      ]
     },
     "execution_count": 37,
     "metadata": {},
     "output_type": "execute_result"
    }
   ],
   "source": [
    "df.isnull().sum()"
   ]
  },
  {
   "cell_type": "markdown",
   "id": "8732d8d3-b29a-43f1-bcb1-35d35e943214",
   "metadata": {},
   "source": [
    "<h3>Get Values of Categorical columns</h3>"
   ]
  },
  {
   "cell_type": "code",
   "execution_count": 40,
   "id": "d52b41b6-e097-443d-8f49-c720016f6542",
   "metadata": {},
   "outputs": [
    {
     "name": "stdout",
     "output_type": "stream",
     "text": [
      "Customer_ID\n",
      "1       1\n",
      "2621    1\n",
      "2593    1\n",
      "2594    1\n",
      "2595    1\n",
      "       ..\n",
      "1305    1\n",
      "1306    1\n",
      "1307    1\n",
      "1308    1\n",
      "3900    1\n",
      "Name: count, Length: 3900, dtype: int64\n",
      "\n",
      "\n",
      "Gender\n",
      "Male      2652\n",
      "Female    1248\n",
      "Name: count, dtype: int64\n",
      "\n",
      "\n",
      "Item_Purchased\n",
      "Blouse        171\n",
      "Jewelry       171\n",
      "Pants         171\n",
      "Shirt         169\n",
      "Dress         166\n",
      "Sweater       164\n",
      "Jacket        163\n",
      "Belt          161\n",
      "Sunglasses    161\n",
      "Coat          161\n",
      "Sandals       160\n",
      "Socks         159\n",
      "Skirt         158\n",
      "Shorts        157\n",
      "Scarf         157\n",
      "Hat           154\n",
      "Handbag       153\n",
      "Hoodie        151\n",
      "Shoes         150\n",
      "T-shirt       147\n",
      "Sneakers      145\n",
      "Boots         144\n",
      "Backpack      143\n",
      "Gloves        140\n",
      "Jeans         124\n",
      "Name: count, dtype: int64\n",
      "\n",
      "\n",
      "Category\n",
      "Clothing       1737\n",
      "Accessories    1240\n",
      "Footwear        599\n",
      "Outerwear       324\n",
      "Name: count, dtype: int64\n",
      "\n",
      "\n",
      "Location\n",
      "Montana           96\n",
      "California        95\n",
      "Idaho             93\n",
      "Illinois          92\n",
      "Alabama           89\n",
      "Minnesota         88\n",
      "Nebraska          87\n",
      "New York          87\n",
      "Nevada            87\n",
      "Maryland          86\n",
      "Delaware          86\n",
      "Vermont           85\n",
      "Louisiana         84\n",
      "North Dakota      83\n",
      "Missouri          81\n",
      "West Virginia     81\n",
      "New Mexico        81\n",
      "Mississippi       80\n",
      "Indiana           79\n",
      "Georgia           79\n",
      "Kentucky          79\n",
      "Arkansas          79\n",
      "North Carolina    78\n",
      "Connecticut       78\n",
      "Virginia          77\n",
      "Ohio              77\n",
      "Tennessee         77\n",
      "Texas             77\n",
      "Maine             77\n",
      "South Carolina    76\n",
      "Colorado          75\n",
      "Oklahoma          75\n",
      "Wisconsin         75\n",
      "Oregon            74\n",
      "Pennsylvania      74\n",
      "Washington        73\n",
      "Michigan          73\n",
      "Alaska            72\n",
      "Massachusetts     72\n",
      "Wyoming           71\n",
      "Utah              71\n",
      "New Hampshire     71\n",
      "South Dakota      70\n",
      "Iowa              69\n",
      "Florida           68\n",
      "New Jersey        67\n",
      "Hawaii            65\n",
      "Arizona           65\n",
      "Kansas            63\n",
      "Rhode Island      63\n",
      "Name: count, dtype: int64\n",
      "\n",
      "\n",
      "Size\n",
      "M     1755\n",
      "L     1053\n",
      "S      663\n",
      "XL     429\n",
      "Name: count, dtype: int64\n",
      "\n",
      "\n",
      "Color\n",
      "Olive        177\n",
      "Yellow       174\n",
      "Silver       173\n",
      "Teal         172\n",
      "Green        169\n",
      "Black        167\n",
      "Cyan         166\n",
      "Violet       166\n",
      "Gray         159\n",
      "Maroon       158\n",
      "Orange       154\n",
      "Charcoal     153\n",
      "Pink         153\n",
      "Magenta      152\n",
      "Blue         152\n",
      "Purple       151\n",
      "Peach        149\n",
      "Red          148\n",
      "Beige        147\n",
      "Indigo       147\n",
      "Lavender     147\n",
      "Turquoise    145\n",
      "White        142\n",
      "Brown        141\n",
      "Gold         138\n",
      "Name: count, dtype: int64\n",
      "\n",
      "\n",
      "Season\n",
      "Spring    999\n",
      "Fall      975\n",
      "Winter    971\n",
      "Summer    955\n",
      "Name: count, dtype: int64\n",
      "\n",
      "\n",
      "Subscription_Status\n",
      "No     2847\n",
      "Yes    1053\n",
      "Name: count, dtype: int64\n",
      "\n",
      "\n",
      "Payment_Method\n",
      "Credit Card      696\n",
      "Venmo            653\n",
      "Cash             648\n",
      "PayPal           638\n",
      "Debit Card       633\n",
      "Bank Transfer    632\n",
      "Name: count, dtype: int64\n",
      "\n",
      "\n",
      "Shipping_Type\n",
      "Free Shipping     675\n",
      "Standard          654\n",
      "Store Pickup      650\n",
      "Next Day Air      648\n",
      "Express           646\n",
      "2-Day Shipping    627\n",
      "Name: count, dtype: int64\n",
      "\n",
      "\n",
      "Discount_Applied\n",
      "No     2223\n",
      "Yes    1677\n",
      "Name: count, dtype: int64\n",
      "\n",
      "\n",
      "Promo_Code_Used\n",
      "No     2223\n",
      "Yes    1677\n",
      "Name: count, dtype: int64\n",
      "\n",
      "\n",
      "Preferred_Payment_Method\n",
      "PayPal           677\n",
      "Credit Card      671\n",
      "Cash             670\n",
      "Debit Card       636\n",
      "Venmo            634\n",
      "Bank Transfer    612\n",
      "Name: count, dtype: int64\n",
      "\n",
      "\n",
      "Frequency_of_Purchases\n",
      "Every 3 Months    584\n",
      "Annually          572\n",
      "Quarterly         563\n",
      "Monthly           553\n",
      "Bi-Weekly         547\n",
      "Fortnightly       542\n",
      "Weekly            539\n",
      "Name: count, dtype: int64\n",
      "\n",
      "\n"
     ]
    }
   ],
   "source": [
    "for col in df.select_dtypes('object').columns: \n",
    "    print(df[col].value_counts())\n",
    "    print('\\n')"
   ]
  },
  {
   "cell_type": "markdown",
   "id": "3103f0f9-ed3f-4f36-a3c6-880c00208370",
   "metadata": {},
   "source": [
    "<h3>Outliers</h3>"
   ]
  },
  {
   "cell_type": "code",
   "execution_count": 136,
   "id": "2ff7be08-58ba-4bad-8591-68ce334383b0",
   "metadata": {},
   "outputs": [
    {
     "data": {
      "text/plain": [
       "Index(['Age', 'Purchase_Amount_USD', 'Previous_Purchases'], dtype='object')"
      ]
     },
     "execution_count": 136,
     "metadata": {},
     "output_type": "execute_result"
    }
   ],
   "source": [
    "df.select_dtypes('int').columns"
   ]
  },
  {
   "cell_type": "code",
   "execution_count": 138,
   "id": "2184723d-3623-4ad5-bdb4-8082ac1fb046",
   "metadata": {},
   "outputs": [
    {
     "data": {
      "text/plain": [
       "Index(['Review_Rating'], dtype='object')"
      ]
     },
     "execution_count": 138,
     "metadata": {},
     "output_type": "execute_result"
    }
   ],
   "source": [
    "df.select_dtypes('float').columns"
   ]
  },
  {
   "cell_type": "markdown",
   "id": "462fcb4b-7eea-4ec2-939a-95337a5b2a61",
   "metadata": {},
   "source": [
    "--I will not consider age outliers since it is normal for this kind of business everyone wears clothes"
   ]
  },
  {
   "cell_type": "code",
   "execution_count": 144,
   "id": "752495e6-9413-4bda-a605-18dfddc7efda",
   "metadata": {},
   "outputs": [
    {
     "data": {
      "text/plain": [
       "<Axes: xlabel='Purchase_Amount_USD'>"
      ]
     },
     "execution_count": 144,
     "metadata": {},
     "output_type": "execute_result"
    },
    {
     "data": {
      "image/png": "[encoded data removed]",
      "text/plain": [
       "<Figure size 640x480 with 1 Axes>"
      ]
     },
     "metadata": {},
     "output_type": "display_data"
    }
   ],
   "source": [
    "sns.boxplot(x=df['Purchase_Amount_USD'])"
   ]
  },
  {
   "cell_type": "code",
   "execution_count": 146,
   "id": "92030214-4b80-4b28-b7a4-2a4a84d13230",
   "metadata": {},
   "outputs": [
    {
     "data": {
      "text/plain": [
       "<Axes: xlabel='Previous_Purchases'>"
      ]
     },
     "execution_count": 146,
     "metadata": {},
     "output_type": "execute_result"
    },
    {
     "data": {
      "image/png": "[encoded data removed]",
      "text/plain": [
       "<Figure size 640x480 with 1 Axes>"
      ]
     },
     "metadata": {},
     "output_type": "display_data"
    }
   ],
   "source": [
    "sns.boxplot(x=df['Previous_Purchases'])"
   ]
  },
  {
   "cell_type": "code",
   "execution_count": 148,
   "id": "1d0159cb-ca3e-4f10-9872-21c1e16bcfca",
   "metadata": {},
   "outputs": [
    {
     "data": {
      "text/plain": [
       "<Axes: xlabel='Review_Rating'>"
      ]
     },
     "execution_count": 148,
     "metadata": {},
     "output_type": "execute_result"
    },
    {
     "data": {
      "image/png": "[encoded data removed]",
      "text/plain": [
       "<Figure size 640x480 with 1 Axes>"
      ]
     },
     "metadata": {},
     "output_type": "display_data"
    }
   ],
   "source": [
    "sns.boxplot(x=df['Review_Rating'])"
   ]
  },
  {
   "cell_type": "code",
   "execution_count": 46,
   "id": "46b4525f-204b-4838-9155-d73ec3ddd680",
   "metadata": {},
   "outputs": [
    {
     "data": {
      "text/html": [
       "<div>\n",
       "<style scoped>\n",
       "    .dataframe tbody tr th:only-of-type {\n",
       "        vertical-align: middle;\n",
       "    }\n",
       "\n",
       "    .dataframe tbody tr th {\n",
       "        vertical-align: top;\n",
       "    }\n",
       "\n",
       "    .dataframe thead th {\n",
       "        text-align: right;\n",
       "    }\n",
       "</style>\n",
       "<table border=\"1\" class=\"dataframe\">\n",
       "  <thead>\n",
       "    <tr style=\"text-align: right;\">\n",
       "      <th></th>\n",
       "      <th>Customer_ID</th>\n",
       "      <th>Age</th>\n",
       "      <th>Gender</th>\n",
       "      <th>Item_Purchased</th>\n",
       "      <th>Category</th>\n",
       "      <th>Purchase_Amount_USD</th>\n",
       "      <th>Location</th>\n",
       "      <th>Size</th>\n",
       "      <th>Color</th>\n",
       "      <th>Season</th>\n",
       "      <th>Review_Rating</th>\n",
       "      <th>Subscription_Status</th>\n",
       "      <th>Payment_Method</th>\n",
       "      <th>Shipping_Type</th>\n",
       "      <th>Discount_Applied</th>\n",
       "      <th>Promo_Code_Used</th>\n",
       "      <th>Previous_Purchases</th>\n",
       "      <th>Preferred_Payment_Method</th>\n",
       "      <th>Frequency_of_Purchases</th>\n",
       "    </tr>\n",
       "  </thead>\n",
       "  <tbody>\n",
       "    <tr>\n",
       "      <th>0</th>\n",
       "      <td>1</td>\n",
       "      <td>55</td>\n",
       "      <td>Male</td>\n",
       "      <td>Blouse</td>\n",
       "      <td>Clothing</td>\n",
       "      <td>53</td>\n",
       "      <td>Kentucky</td>\n",
       "      <td>L</td>\n",
       "      <td>Gray</td>\n",
       "      <td>Winter</td>\n",
       "      <td>3.1</td>\n",
       "      <td>Yes</td>\n",
       "      <td>Credit Card</td>\n",
       "      <td>Express</td>\n",
       "      <td>Yes</td>\n",
       "      <td>Yes</td>\n",
       "      <td>14</td>\n",
       "      <td>Venmo</td>\n",
       "      <td>Fortnightly</td>\n",
       "    </tr>\n",
       "    <tr>\n",
       "      <th>1</th>\n",
       "      <td>2</td>\n",
       "      <td>19</td>\n",
       "      <td>Male</td>\n",
       "      <td>Sweater</td>\n",
       "      <td>Clothing</td>\n",
       "      <td>64</td>\n",
       "      <td>Maine</td>\n",
       "      <td>L</td>\n",
       "      <td>Maroon</td>\n",
       "      <td>Winter</td>\n",
       "      <td>3.1</td>\n",
       "      <td>Yes</td>\n",
       "      <td>Bank Transfer</td>\n",
       "      <td>Express</td>\n",
       "      <td>Yes</td>\n",
       "      <td>Yes</td>\n",
       "      <td>2</td>\n",
       "      <td>Cash</td>\n",
       "      <td>Fortnightly</td>\n",
       "    </tr>\n",
       "    <tr>\n",
       "      <th>2</th>\n",
       "      <td>3</td>\n",
       "      <td>50</td>\n",
       "      <td>Male</td>\n",
       "      <td>Jeans</td>\n",
       "      <td>Clothing</td>\n",
       "      <td>73</td>\n",
       "      <td>Massachusetts</td>\n",
       "      <td>S</td>\n",
       "      <td>Maroon</td>\n",
       "      <td>Spring</td>\n",
       "      <td>3.1</td>\n",
       "      <td>Yes</td>\n",
       "      <td>Cash</td>\n",
       "      <td>Free Shipping</td>\n",
       "      <td>Yes</td>\n",
       "      <td>Yes</td>\n",
       "      <td>23</td>\n",
       "      <td>Credit Card</td>\n",
       "      <td>Weekly</td>\n",
       "    </tr>\n",
       "    <tr>\n",
       "      <th>3</th>\n",
       "      <td>4</td>\n",
       "      <td>21</td>\n",
       "      <td>Male</td>\n",
       "      <td>Sandals</td>\n",
       "      <td>Footwear</td>\n",
       "      <td>90</td>\n",
       "      <td>Rhode Island</td>\n",
       "      <td>M</td>\n",
       "      <td>Maroon</td>\n",
       "      <td>Spring</td>\n",
       "      <td>3.5</td>\n",
       "      <td>Yes</td>\n",
       "      <td>PayPal</td>\n",
       "      <td>Next Day Air</td>\n",
       "      <td>Yes</td>\n",
       "      <td>Yes</td>\n",
       "      <td>49</td>\n",
       "      <td>PayPal</td>\n",
       "      <td>Weekly</td>\n",
       "    </tr>\n",
       "    <tr>\n",
       "      <th>4</th>\n",
       "      <td>5</td>\n",
       "      <td>45</td>\n",
       "      <td>Male</td>\n",
       "      <td>Blouse</td>\n",
       "      <td>Clothing</td>\n",
       "      <td>49</td>\n",
       "      <td>Oregon</td>\n",
       "      <td>M</td>\n",
       "      <td>Turquoise</td>\n",
       "      <td>Spring</td>\n",
       "      <td>2.7</td>\n",
       "      <td>Yes</td>\n",
       "      <td>Cash</td>\n",
       "      <td>Free Shipping</td>\n",
       "      <td>Yes</td>\n",
       "      <td>Yes</td>\n",
       "      <td>31</td>\n",
       "      <td>PayPal</td>\n",
       "      <td>Annually</td>\n",
       "    </tr>\n",
       "  </tbody>\n",
       "</table>\n",
       "</div>"
      ],
      "text/plain": [
       "  Customer_ID  Age Gender Item_Purchased  Category  Purchase_Amount_USD  \\\n",
       "0           1   55   Male         Blouse  Clothing                   53   \n",
       "1           2   19   Male        Sweater  Clothing                   64   \n",
       "2           3   50   Male          Jeans  Clothing                   73   \n",
       "3           4   21   Male        Sandals  Footwear                   90   \n",
       "4           5   45   Male         Blouse  Clothing                   49   \n",
       "\n",
       "        Location Size      Color  Season  Review_Rating Subscription_Status  \\\n",
       "0       Kentucky    L       Gray  Winter            3.1                 Yes   \n",
       "1          Maine    L     Maroon  Winter            3.1                 Yes   \n",
       "2  Massachusetts    S     Maroon  Spring            3.1                 Yes   \n",
       "3   Rhode Island    M     Maroon  Spring            3.5                 Yes   \n",
       "4         Oregon    M  Turquoise  Spring            2.7                 Yes   \n",
       "\n",
       "  Payment_Method  Shipping_Type Discount_Applied Promo_Code_Used  \\\n",
       "0    Credit Card        Express              Yes             Yes   \n",
       "1  Bank Transfer        Express              Yes             Yes   \n",
       "2           Cash  Free Shipping              Yes             Yes   \n",
       "3         PayPal   Next Day Air              Yes             Yes   \n",
       "4           Cash  Free Shipping              Yes             Yes   \n",
       "\n",
       "   Previous_Purchases Preferred_Payment_Method Frequency_of_Purchases  \n",
       "0                  14                    Venmo            Fortnightly  \n",
       "1                   2                     Cash            Fortnightly  \n",
       "2                  23              Credit Card                 Weekly  \n",
       "3                  49                   PayPal                 Weekly  \n",
       "4                  31                   PayPal               Annually  "
      ]
     },
     "execution_count": 46,
     "metadata": {},
     "output_type": "execute_result"
    }
   ],
   "source": [
    "df.head()"
   ]
  },
  {
   "cell_type": "markdown",
   "id": "5f424979-375e-42b2-8f27-e33c6a2b366c",
   "metadata": {},
   "source": [
    "<h3>Univariate Analysis</h3>"
   ]
  },
  {
   "cell_type": "code",
   "execution_count": 49,
   "id": "998d9b4b-11b9-45fc-8128-3b0793806f1c",
   "metadata": {},
   "outputs": [
    {
     "data": {
      "text/plain": [
       "<Axes: xlabel='Age', ylabel='Count'>"
      ]
     },
     "execution_count": 49,
     "metadata": {},
     "output_type": "execute_result"
    },
    {
     "data": {
      "image/png": "[encoded data removed]",
      "text/plain": [
       "<Figure size 640x480 with 1 Axes>"
      ]
     },
     "metadata": {},
     "output_type": "display_data"
    }
   ],
   "source": [
    "sns.histplot(data=df['Age'])"
   ]
  },
  {
   "cell_type": "code",
   "execution_count": 51,
   "id": "5f0dda49-5f52-4652-8d82-0cf2b910b587",
   "metadata": {},
   "outputs": [
    {
     "data": {
      "text/plain": [
       "<Axes: ylabel='Gender'>"
      ]
     },
     "execution_count": 51,
     "metadata": {},
     "output_type": "execute_result"
    },
    {
     "data": {
      "image/png": "[encoded data removed]",
      "text/plain": [
       "<Figure size 640x480 with 1 Axes>"
      ]
     },
     "metadata": {},
     "output_type": "display_data"
    }
   ],
   "source": [
    "sns.barplot(data=df['Gender'])"
   ]
  },
  {
   "cell_type": "code",
   "execution_count": 53,
   "id": "db8526e5-b38c-4ba4-a4c3-c9d34df99d21",
   "metadata": {},
   "outputs": [
    {
     "data": {
      "text/plain": [
       "Gender\n",
       "Male      2652\n",
       "Female    1248\n",
       "Name: count, dtype: int64"
      ]
     },
     "execution_count": 53,
     "metadata": {},
     "output_type": "execute_result"
    }
   ],
   "source": [
    "df['Gender'].value_counts()"
   ]
  },
  {
   "cell_type": "code",
   "execution_count": 55,
   "id": "7f570e5c-a640-40c5-ae8e-bd80631cb042",
   "metadata": {},
   "outputs": [
    {
     "data": {
      "text/plain": [
       "<Axes: xlabel='Gender', ylabel='count'>"
      ]
     },
     "execution_count": 55,
     "metadata": {},
     "output_type": "execute_result"
    },
    {
     "data": {
      "image/png": "[encoded data removed]",
      "text/plain": [
       "<Figure size 640x480 with 1 Axes>"
      ]
     },
     "metadata": {},
     "output_type": "display_data"
    }
   ],
   "source": [
    "sns.countplot(data=df, x='Gender')"
   ]
  },
  {
   "cell_type": "code",
   "execution_count": 79,
   "id": "a0c88c74-43cf-454f-8561-5b3c84b320f4",
   "metadata": {},
   "outputs": [
    {
     "data": {
      "text/plain": [
       "<Axes: xlabel='Gender'>"
      ]
     },
     "execution_count": 79,
     "metadata": {},
     "output_type": "execute_result"
    },
    {
     "data": {
      "image/png": "[encoded data removed]",
      "text/plain": [
       "<Figure size 640x480 with 1 Axes>"
      ]
     },
     "metadata": {},
     "output_type": "display_data"
    }
   ],
   "source": [
    "sns.barplot(data=df, x='Gender')"
   ]
  },
  {
   "cell_type": "code",
   "execution_count": 59,
   "id": "e98f8ba6-887c-4b4f-973c-65b0c943adf3",
   "metadata": {},
   "outputs": [
    {
     "data": {
      "text/plain": [
       "array(['Male', 'Female'], dtype=object)"
      ]
     },
     "execution_count": 59,
     "metadata": {},
     "output_type": "execute_result"
    }
   ],
   "source": [
    "df['Gender'].unique()"
   ]
  },
  {
   "cell_type": "code",
   "execution_count": 63,
   "id": "31e3eebe-903a-44a6-969c-d2138ac643dc",
   "metadata": {},
   "outputs": [
    {
     "data": {
      "text/plain": [
       "<Axes: >"
      ]
     },
     "execution_count": 63,
     "metadata": {},
     "output_type": "execute_result"
    },
    {
     "data": {
      "image/png": "[encoded data removed]",
      "text/plain": [
       "<Figure size 640x480 with 1 Axes>"
      ]
     },
     "metadata": {},
     "output_type": "display_data"
    }
   ],
   "source": [
    "sns.barplot(x=['Male', 'Female'], y=[2652, 1248])"
   ]
  },
  {
   "cell_type": "code",
   "execution_count": 67,
   "id": "ccb4d689-be81-470a-b64c-9abbaeb1b8cc",
   "metadata": {},
   "outputs": [
    {
     "data": {
      "text/plain": [
       "<Axes: ylabel='Gender'>"
      ]
     },
     "execution_count": 67,
     "metadata": {},
     "output_type": "execute_result"
    },
    {
     "data": {
      "image/png": "[encoded data removed]",
      "text/plain": [
       "<Figure size 640x480 with 1 Axes>"
      ]
     },
     "metadata": {},
     "output_type": "display_data"
    }
   ],
   "source": [
    "sns.barplot(data=df['Gender'])"
   ]
  },
  {
   "cell_type": "code",
   "execution_count": 69,
   "id": "1601d10a-1799-4bc4-9b64-4f3b33e1e677",
   "metadata": {},
   "outputs": [
    {
     "data": {
      "text/plain": [
       "0         Male\n",
       "1         Male\n",
       "2         Male\n",
       "3         Male\n",
       "4         Male\n",
       "         ...  \n",
       "3895    Female\n",
       "3896    Female\n",
       "3897    Female\n",
       "3898    Female\n",
       "3899    Female\n",
       "Name: Gender, Length: 3900, dtype: object"
      ]
     },
     "execution_count": 69,
     "metadata": {},
     "output_type": "execute_result"
    }
   ],
   "source": [
    "df['Gender']"
   ]
  },
  {
   "cell_type": "code",
   "execution_count": 83,
   "id": "7c4f73a2-459a-45ce-a4dd-ab15d3f69604",
   "metadata": {},
   "outputs": [
    {
     "data": {
      "text/plain": [
       "<Axes: ylabel='Category'>"
      ]
     },
     "execution_count": 83,
     "metadata": {},
     "output_type": "execute_result"
    },
    {
     "data": {
      "image/png": "[encoded data removed]",
      "text/plain": [
       "<Figure size 640x480 with 1 Axes>"
      ]
     },
     "metadata": {},
     "output_type": "display_data"
    }
   ],
   "source": [
    "sns.barplot(data=df['Category'])"
   ]
  },
  {
   "cell_type": "code",
   "execution_count": 85,
   "id": "5c5b241c-8b0f-4bb5-ba03-6249bffe3373",
   "metadata": {},
   "outputs": [
    {
     "data": {
      "text/plain": [
       "<Axes: ylabel='Item_Purchased'>"
      ]
     },
     "execution_count": 85,
     "metadata": {},
     "output_type": "execute_result"
    },
    {
     "data": {
      "image/png": "[encoded data removed]",
      "text/plain": [
       "<Figure size 640x480 with 1 Axes>"
      ]
     },
     "metadata": {},
     "output_type": "display_data"
    }
   ],
   "source": [
    "sns.barplot(data=df['Item_Purchased'])"
   ]
  },
  {
   "cell_type": "code",
   "execution_count": 87,
   "id": "0879d57f-5120-427b-ab8d-26c61ad05f56",
   "metadata": {},
   "outputs": [
    {
     "data": {
      "text/plain": [
       "<Axes: xlabel='Purchase_Amount_USD', ylabel='Count'>"
      ]
     },
     "execution_count": 87,
     "metadata": {},
     "output_type": "execute_result"
    },
    {
     "data": {
      "image/png": "[encoded data removed]",
      "text/plain": [
       "<Figure size 640x480 with 1 Axes>"
      ]
     },
     "metadata": {},
     "output_type": "display_data"
    }
   ],
   "source": [
    "sns.histplot(data=df['Purchase_Amount_USD'])"
   ]
  },
  {
   "cell_type": "code",
   "execution_count": 97,
   "id": "f3a13087-b32d-40de-8e20-b394b7561793",
   "metadata": {},
   "outputs": [
    {
     "data": {
      "text/plain": [
       "<Axes: ylabel='Location'>"
      ]
     },
     "execution_count": 97,
     "metadata": {},
     "output_type": "execute_result"
    },
    {
     "data": {
      "image/png": "[encoded data removed]",
      "text/plain": [
       "<Figure size 640x480 with 1 Axes>"
      ]
     },
     "metadata": {},
     "output_type": "display_data"
    }
   ],
   "source": [
    "sns.barplot(data=df['Location'])"
   ]
  },
  {
   "cell_type": "code",
   "execution_count": 99,
   "id": "b2fa3220-ddaa-4c59-bda2-23be2d21cf11",
   "metadata": {},
   "outputs": [
    {
     "data": {
      "text/plain": [
       "<Axes: ylabel='Payment_Method'>"
      ]
     },
     "execution_count": 99,
     "metadata": {},
     "output_type": "execute_result"
    },
    {
     "data": {
      "image/png": "[encoded data removed]",
      "text/plain": [
       "<Figure size 640x480 with 1 Axes>"
      ]
     },
     "metadata": {},
     "output_type": "display_data"
    }
   ],
   "source": [
    "sns.barplot(data=df['Payment_Method'])"
   ]
  },
  {
   "cell_type": "code",
   "execution_count": 101,
   "id": "ad4b2f08-1711-4157-a1af-30163fe0d02c",
   "metadata": {},
   "outputs": [
    {
     "data": {
      "text/plain": [
       "<Axes: ylabel='Size'>"
      ]
     },
     "execution_count": 101,
     "metadata": {},
     "output_type": "execute_result"
    },
    {
     "data": {
      "image/png": "[encoded data removed]",
      "text/plain": [
       "<Figure size 640x480 with 1 Axes>"
      ]
     },
     "metadata": {},
     "output_type": "display_data"
    }
   ],
   "source": [
    "sns.barplot(data=df['Size'])"
   ]
  },
  {
   "cell_type": "code",
   "execution_count": 103,
   "id": "e2ac8265-8692-4562-90d5-7d861225d683",
   "metadata": {},
   "outputs": [
    {
     "data": {
      "text/plain": [
       "<Axes: ylabel='Color'>"
      ]
     },
     "execution_count": 103,
     "metadata": {},
     "output_type": "execute_result"
    },
    {
     "data": {
      "image/png": "[encoded data removed]",
      "text/plain": [
       "<Figure size 640x480 with 1 Axes>"
      ]
     },
     "metadata": {},
     "output_type": "display_data"
    }
   ],
   "source": [
    "sns.barplot(data=df['Color'])"
   ]
  },
  {
   "cell_type": "code",
   "execution_count": 105,
   "id": "6425db51-9e97-4d6d-9815-b0138a959e46",
   "metadata": {},
   "outputs": [
    {
     "data": {
      "text/plain": [
       "<Axes: ylabel='Season'>"
      ]
     },
     "execution_count": 105,
     "metadata": {},
     "output_type": "execute_result"
    },
    {
     "data": {
      "image/png": "[encoded data removed]",
      "text/plain": [
       "<Figure size 640x480 with 1 Axes>"
      ]
     },
     "metadata": {},
     "output_type": "display_data"
    }
   ],
   "source": [
    "sns.barplot(data=df['Season'])"
   ]
  },
  {
   "cell_type": "code",
   "execution_count": 107,
   "id": "7d8908b4-5aae-42bf-b418-8231f1c9b105",
   "metadata": {},
   "outputs": [
    {
     "data": {
      "text/plain": [
       "<Axes: ylabel='Shipping_Type'>"
      ]
     },
     "execution_count": 107,
     "metadata": {},
     "output_type": "execute_result"
    },
    {
     "data": {
      "image/png": "[encoded data removed]",
      "text/plain": [
       "<Figure size 640x480 with 1 Axes>"
      ]
     },
     "metadata": {},
     "output_type": "display_data"
    }
   ],
   "source": [
    "sns.barplot(data=df['Shipping_Type'])"
   ]
  },
  {
   "cell_type": "code",
   "execution_count": 119,
   "id": "61f8a2aa-1b82-4950-b4c3-3ca6c394ed40",
   "metadata": {},
   "outputs": [
    {
     "data": {
      "text/plain": [
       "<Axes: ylabel='Subscription_Status'>"
      ]
     },
     "execution_count": 119,
     "metadata": {},
     "output_type": "execute_result"
    },
    {
     "data": {
      "image/png": "[encoded data removed]",
      "text/plain": [
       "<Figure size 640x480 with 1 Axes>"
      ]
     },
     "metadata": {},
     "output_type": "display_data"
    }
   ],
   "source": [
    "sns.barplot(data=df['Subscription_Status'])"
   ]
  },
  {
   "cell_type": "code",
   "execution_count": 113,
   "id": "67731d03-6ec1-47af-929b-483e27f3922e",
   "metadata": {},
   "outputs": [
    {
     "data": {
      "text/plain": [
       "Subscription_Status\n",
       "No     2847\n",
       "Yes    1053\n",
       "Name: count, dtype: int64"
      ]
     },
     "execution_count": 113,
     "metadata": {},
     "output_type": "execute_result"
    }
   ],
   "source": [
    "df['Subscription_Status'].value_counts()"
   ]
  },
  {
   "cell_type": "code",
   "execution_count": 121,
   "id": "626bf12f-8fc5-4d82-840f-fdd7357bee34",
   "metadata": {},
   "outputs": [
    {
     "data": {
      "text/plain": [
       "<Axes: xlabel='Review_Rating', ylabel='Count'>"
      ]
     },
     "execution_count": 121,
     "metadata": {},
     "output_type": "execute_result"
    },
    {
     "data": {
      "image/png": "[encoded data removed]",
      "text/plain": [
       "<Figure size 640x480 with 1 Axes>"
      ]
     },
     "metadata": {},
     "output_type": "display_data"
    }
   ],
   "source": [
    "sns.histplot(data=df['Review_Rating'])"
   ]
  },
  {
   "cell_type": "code",
   "execution_count": 95,
   "id": "608e0664-b0c1-4067-8301-7221ba172642",
   "metadata": {},
   "outputs": [
    {
     "data": {
      "text/plain": [
       "([0, 1, 2, 3, 4, 5, 6],\n",
       " [Text(0, 0, 'Fortnightly'),\n",
       "  Text(1, 0, 'Weekly'),\n",
       "  Text(2, 0, 'Annually'),\n",
       "  Text(3, 0, 'Quarterly'),\n",
       "  Text(4, 0, 'Bi-Weekly'),\n",
       "  Text(5, 0, 'Monthly'),\n",
       "  Text(6, 0, 'Every 3 Months')])"
      ]
     },
     "execution_count": 95,
     "metadata": {},
     "output_type": "execute_result"
    },
    {
     "data": {
      "image/png": "[encoded data removed]",
      "text/plain": [
       "<Figure size 640x480 with 1 Axes>"
      ]
     },
     "metadata": {},
     "output_type": "display_data"
    }
   ],
   "source": [
    "sns.histplot(data=df['Frequency_of_Purchases'])\n",
    "plt.xticks(rotation=45)"
   ]
  },
  {
   "cell_type": "markdown",
   "id": "0faa6a20-181f-49cb-aeed-64a5971d9853",
   "metadata": {},
   "source": [
    "<h3>Bivariate Analysis</h3>"
   ]
  },
  {
   "cell_type": "code",
   "execution_count": 124,
   "id": "53dd7a4f-418d-489c-a5df-dc57ca43e60f",
   "metadata": {},
   "outputs": [
    {
     "data": {
      "text/plain": [
       "Index(['Customer_ID', 'Age', 'Gender', 'Item_Purchased', 'Category',\n",
       "       'Purchase_Amount_USD', 'Location', 'Size', 'Color', 'Season',\n",
       "       'Review_Rating', 'Subscription_Status', 'Payment_Method',\n",
       "       'Shipping_Type', 'Discount_Applied', 'Promo_Code_Used',\n",
       "       'Previous_Purchases', 'Preferred_Payment_Method',\n",
       "       'Frequency_of_Purchases'],\n",
       "      dtype='object')"
      ]
     },
     "execution_count": 124,
     "metadata": {},
     "output_type": "execute_result"
    }
   ],
   "source": [
    "df.columns"
   ]
  },
  {
   "cell_type": "markdown",
   "id": "319dc619-5b0b-413a-a99b-61332516e6df",
   "metadata": {},
   "source": [
    "<h1>Questions</h1>\n",
    "1. Varitaion of sales among different seasons <hr>\n",
    "2. which clothing category sells the most mainly, and with each season in another graph <hr>\n",
    "3. which seasons have more discounts/promo codes <hr>\n",
    "4. preffered payment methods with amounts purchased<hr>\n",
    "5. preffered payment methods with freq of purchases<hr>\n",
    "6. sales with shipping types/amount purchased per shipping type<hr>\n",
    "7. and discounts with shipping types<hr>\n",
    "8. and shipping types with freq of purchasing<hr>\n",
    "9. how many subscriptions<hr>\n",
    "10. subscriptions with freq of purchasing<hr>\n",
    "11. subscriptions with paymed type<hr>\n",
    "12. subscriptions with shipping type<hr>\n",
    "13. visualize fav colors <hr>\n",
    "14. visualize fav categories<hr>\n",
    "15. visualize map for locations<hr>\n",
    "16. how many of each gender is subscribed<hr>\n",
    "17. from value counts why are male customers more? since this is a clothing brand mostly should be women<hr>"
   ]
  },
  {
   "cell_type": "code",
   "execution_count": 153,
   "id": "02025447-5182-44d3-9b0a-f4f6697679e7",
   "metadata": {},
   "outputs": [
    {
     "data": {
      "text/plain": [
       "Season\n",
       "Fall      61.556923\n",
       "Spring    58.737738\n",
       "Summer    58.405236\n",
       "Winter    60.357364\n",
       "Name: Purchase_Amount_USD, dtype: float64"
      ]
     },
     "execution_count": 153,
     "metadata": {},
     "output_type": "execute_result"
    }
   ],
   "source": [
    "df.groupby('Season')['Purchase_Amount_USD'].mean()"
   ]
  },
  {
   "cell_type": "code",
   "execution_count": 165,
   "id": "73e83190-f3e1-4040-861f-788f291f394c",
   "metadata": {},
   "outputs": [
    {
     "data": {
      "text/html": [
       "<div>\n",
       "<style scoped>\n",
       "    .dataframe tbody tr th:only-of-type {\n",
       "        vertical-align: middle;\n",
       "    }\n",
       "\n",
       "    .dataframe tbody tr th {\n",
       "        vertical-align: top;\n",
       "    }\n",
       "\n",
       "    .dataframe thead th {\n",
       "        text-align: right;\n",
       "    }\n",
       "</style>\n",
       "<table border=\"1\" class=\"dataframe\">\n",
       "  <thead>\n",
       "    <tr style=\"text-align: right;\">\n",
       "      <th>Category</th>\n",
       "      <th>Accessories</th>\n",
       "      <th>Clothing</th>\n",
       "      <th>Footwear</th>\n",
       "      <th>Outerwear</th>\n",
       "    </tr>\n",
       "    <tr>\n",
       "      <th>Season</th>\n",
       "      <th></th>\n",
       "      <th></th>\n",
       "      <th></th>\n",
       "      <th></th>\n",
       "    </tr>\n",
       "  </thead>\n",
       "  <tbody>\n",
       "    <tr>\n",
       "      <th>Fall</th>\n",
       "      <td>324</td>\n",
       "      <td>427</td>\n",
       "      <td>136</td>\n",
       "      <td>88</td>\n",
       "    </tr>\n",
       "    <tr>\n",
       "      <th>Spring</th>\n",
       "      <td>301</td>\n",
       "      <td>454</td>\n",
       "      <td>163</td>\n",
       "      <td>81</td>\n",
       "    </tr>\n",
       "    <tr>\n",
       "      <th>Summer</th>\n",
       "      <td>312</td>\n",
       "      <td>408</td>\n",
       "      <td>160</td>\n",
       "      <td>75</td>\n",
       "    </tr>\n",
       "    <tr>\n",
       "      <th>Winter</th>\n",
       "      <td>303</td>\n",
       "      <td>448</td>\n",
       "      <td>140</td>\n",
       "      <td>80</td>\n",
       "    </tr>\n",
       "  </tbody>\n",
       "</table>\n",
       "</div>"
      ],
      "text/plain": [
       "Category  Accessories  Clothing  Footwear  Outerwear\n",
       "Season                                              \n",
       "Fall              324       427       136         88\n",
       "Spring            301       454       163         81\n",
       "Summer            312       408       160         75\n",
       "Winter            303       448       140         80"
      ]
     },
     "execution_count": 165,
     "metadata": {},
     "output_type": "execute_result"
    }
   ],
   "source": [
    "pd.crosstab(df['Season'], df['Category'])"
   ]
  },
  {
   "cell_type": "code",
   "execution_count": 169,
   "id": "a0c41274-100c-42c4-b07b-777eb763b1d6",
   "metadata": {},
   "outputs": [
    {
     "data": {
      "text/html": [
       "<div>\n",
       "<style scoped>\n",
       "    .dataframe tbody tr th:only-of-type {\n",
       "        vertical-align: middle;\n",
       "    }\n",
       "\n",
       "    .dataframe tbody tr th {\n",
       "        vertical-align: top;\n",
       "    }\n",
       "\n",
       "    .dataframe thead th {\n",
       "        text-align: right;\n",
       "    }\n",
       "</style>\n",
       "<table border=\"1\" class=\"dataframe\">\n",
       "  <thead>\n",
       "    <tr style=\"text-align: right;\">\n",
       "      <th></th>\n",
       "      <th>Discount_Applied</th>\n",
       "      <th>Promo_Code_Used</th>\n",
       "    </tr>\n",
       "    <tr>\n",
       "      <th>Season</th>\n",
       "      <th></th>\n",
       "      <th></th>\n",
       "    </tr>\n",
       "  </thead>\n",
       "  <tbody>\n",
       "    <tr>\n",
       "      <th>Fall</th>\n",
       "      <td>975</td>\n",
       "      <td>975</td>\n",
       "    </tr>\n",
       "    <tr>\n",
       "      <th>Spring</th>\n",
       "      <td>999</td>\n",
       "      <td>999</td>\n",
       "    </tr>\n",
       "    <tr>\n",
       "      <th>Summer</th>\n",
       "      <td>955</td>\n",
       "      <td>955</td>\n",
       "    </tr>\n",
       "    <tr>\n",
       "      <th>Winter</th>\n",
       "      <td>971</td>\n",
       "      <td>971</td>\n",
       "    </tr>\n",
       "  </tbody>\n",
       "</table>\n",
       "</div>"
      ],
      "text/plain": [
       "        Discount_Applied  Promo_Code_Used\n",
       "Season                                   \n",
       "Fall                 975              975\n",
       "Spring               999              999\n",
       "Summer               955              955\n",
       "Winter               971              971"
      ]
     },
     "execution_count": 169,
     "metadata": {},
     "output_type": "execute_result"
    }
   ],
   "source": [
    "df.groupby('Season')[['Discount_Applied', 'Promo_Code_Used']].count()"
   ]
  },
  {
   "cell_type": "code",
   "execution_count": 171,
   "id": "2a27e860-c14f-4200-a339-5ef3e60d60e8",
   "metadata": {},
   "outputs": [
    {
     "data": {
      "text/plain": [
       "Season\n",
       "Fall      975\n",
       "Spring    999\n",
       "Summer    955\n",
       "Winter    971\n",
       "Name: Discount_Applied, dtype: int64"
      ]
     },
     "execution_count": 171,
     "metadata": {},
     "output_type": "execute_result"
    }
   ],
   "source": [
    "df.groupby('Season')['Discount_Applied'].count()"
   ]
  },
  {
   "cell_type": "code",
   "execution_count": 173,
   "id": "2d0a024b-8cf9-444f-93c2-0853fe5a4646",
   "metadata": {},
   "outputs": [
    {
     "data": {
      "text/plain": [
       "Season\n",
       "Fall      975\n",
       "Spring    999\n",
       "Summer    955\n",
       "Winter    971\n",
       "Name: Promo_Code_Used, dtype: int64"
      ]
     },
     "execution_count": 173,
     "metadata": {},
     "output_type": "execute_result"
    }
   ],
   "source": [
    "df.groupby('Season')['Promo_Code_Used'].count()"
   ]
  },
  {
   "cell_type": "code",
   "execution_count": 175,
   "id": "47f46d5e-e0ef-4e56-9678-27eb2491362d",
   "metadata": {},
   "outputs": [
    {
     "data": {
      "text/plain": [
       "Payment_Method\n",
       "Bank Transfer    58.738924\n",
       "Cash             59.927469\n",
       "Credit Card      61.159483\n",
       "Debit Card       58.638231\n",
       "PayPal           58.697492\n",
       "Venmo            61.241960\n",
       "Name: Purchase_Amount_USD, dtype: float64"
      ]
     },
     "execution_count": 175,
     "metadata": {},
     "output_type": "execute_result"
    }
   ],
   "source": [
    "df.groupby('Payment_Method')['Purchase_Amount_USD'].mean()"
   ]
  },
  {
   "cell_type": "code",
   "execution_count": 179,
   "id": "83a2c859-13eb-4af6-94a1-2cd8a76c4db1",
   "metadata": {},
   "outputs": [
    {
     "data": {
      "text/plain": [
       "Payment_Method\n",
       "Bank Transfer    632\n",
       "Cash             648\n",
       "Credit Card      696\n",
       "Debit Card       633\n",
       "PayPal           638\n",
       "Venmo            653\n",
       "Name: Frequency_of_Purchases, dtype: int64"
      ]
     },
     "execution_count": 179,
     "metadata": {},
     "output_type": "execute_result"
    }
   ],
   "source": [
    "df.groupby('Payment_Method')['Frequency_of_Purchases']"
   ]
  },
  {
   "cell_type": "code",
   "execution_count": 181,
   "id": "9e11b271-7565-4e26-a517-849ed8bf015b",
   "metadata": {},
   "outputs": [
    {
     "data": {
      "text/html": [
       "<div>\n",
       "<style scoped>\n",
       "    .dataframe tbody tr th:only-of-type {\n",
       "        vertical-align: middle;\n",
       "    }\n",
       "\n",
       "    .dataframe tbody tr th {\n",
       "        vertical-align: top;\n",
       "    }\n",
       "\n",
       "    .dataframe thead th {\n",
       "        text-align: right;\n",
       "    }\n",
       "</style>\n",
       "<table border=\"1\" class=\"dataframe\">\n",
       "  <thead>\n",
       "    <tr style=\"text-align: right;\">\n",
       "      <th>Frequency_of_Purchases</th>\n",
       "      <th>Annually</th>\n",
       "      <th>Bi-Weekly</th>\n",
       "      <th>Every 3 Months</th>\n",
       "      <th>Fortnightly</th>\n",
       "      <th>Monthly</th>\n",
       "      <th>Quarterly</th>\n",
       "      <th>Weekly</th>\n",
       "    </tr>\n",
       "    <tr>\n",
       "      <th>Payment_Method</th>\n",
       "      <th></th>\n",
       "      <th></th>\n",
       "      <th></th>\n",
       "      <th></th>\n",
       "      <th></th>\n",
       "      <th></th>\n",
       "      <th></th>\n",
       "    </tr>\n",
       "  </thead>\n",
       "  <tbody>\n",
       "    <tr>\n",
       "      <th>Bank Transfer</th>\n",
       "      <td>101</td>\n",
       "      <td>92</td>\n",
       "      <td>95</td>\n",
       "      <td>90</td>\n",
       "      <td>87</td>\n",
       "      <td>82</td>\n",
       "      <td>85</td>\n",
       "    </tr>\n",
       "    <tr>\n",
       "      <th>Cash</th>\n",
       "      <td>109</td>\n",
       "      <td>95</td>\n",
       "      <td>119</td>\n",
       "      <td>85</td>\n",
       "      <td>84</td>\n",
       "      <td>82</td>\n",
       "      <td>74</td>\n",
       "    </tr>\n",
       "    <tr>\n",
       "      <th>Credit Card</th>\n",
       "      <td>80</td>\n",
       "      <td>101</td>\n",
       "      <td>102</td>\n",
       "      <td>106</td>\n",
       "      <td>115</td>\n",
       "      <td>104</td>\n",
       "      <td>88</td>\n",
       "    </tr>\n",
       "    <tr>\n",
       "      <th>Debit Card</th>\n",
       "      <td>94</td>\n",
       "      <td>79</td>\n",
       "      <td>90</td>\n",
       "      <td>85</td>\n",
       "      <td>85</td>\n",
       "      <td>108</td>\n",
       "      <td>92</td>\n",
       "    </tr>\n",
       "    <tr>\n",
       "      <th>PayPal</th>\n",
       "      <td>92</td>\n",
       "      <td>84</td>\n",
       "      <td>91</td>\n",
       "      <td>81</td>\n",
       "      <td>87</td>\n",
       "      <td>96</td>\n",
       "      <td>107</td>\n",
       "    </tr>\n",
       "    <tr>\n",
       "      <th>Venmo</th>\n",
       "      <td>96</td>\n",
       "      <td>96</td>\n",
       "      <td>87</td>\n",
       "      <td>95</td>\n",
       "      <td>95</td>\n",
       "      <td>91</td>\n",
       "      <td>93</td>\n",
       "    </tr>\n",
       "  </tbody>\n",
       "</table>\n",
       "</div>"
      ],
      "text/plain": [
       "Frequency_of_Purchases  Annually  Bi-Weekly  Every 3 Months  Fortnightly  \\\n",
       "Payment_Method                                                             \n",
       "Bank Transfer                101         92              95           90   \n",
       "Cash                         109         95             119           85   \n",
       "Credit Card                   80        101             102          106   \n",
       "Debit Card                    94         79              90           85   \n",
       "PayPal                        92         84              91           81   \n",
       "Venmo                         96         96              87           95   \n",
       "\n",
       "Frequency_of_Purchases  Monthly  Quarterly  Weekly  \n",
       "Payment_Method                                      \n",
       "Bank Transfer                87         82      85  \n",
       "Cash                         84         82      74  \n",
       "Credit Card                 115        104      88  \n",
       "Debit Card                   85        108      92  \n",
       "PayPal                       87         96     107  \n",
       "Venmo                        95         91      93  "
      ]
     },
     "execution_count": 181,
     "metadata": {},
     "output_type": "execute_result"
    }
   ],
   "source": [
    "pd.crosstab(df['Payment_Method'], df['Frequency_of_Purchases'])"
   ]
  },
  {
   "cell_type": "code",
   "execution_count": null,
   "id": "e8dfa0cf-aecc-4bfd-82c9-2e45a4d4052f",
   "metadata": {},
   "outputs": [],
   "source": []
  }
 ],
 "metadata": {
  "kernelspec": {
   "display_name": "Python 3 (ipykernel)",
   "language": "python",
   "name": "python3"
  },
  "language_info": {
   "codemirror_mode": {
    "name": "ipython",
    "version": 3
   },
   "file_extension": ".py",
   "mimetype": "text/x-python",
   "name": "python",
   "nbconvert_exporter": "python",
   "pygments_lexer": "ipython3",
   "version": "3.12.4"
  }
 },
 "nbformat": 4,
 "nbformat_minor": 5
}
